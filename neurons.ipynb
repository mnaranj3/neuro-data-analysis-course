{
 "cells": [
  {
   "cell_type": "markdown",
   "metadata": {
    "slideshow": {
     "slide_type": "slide"
    }
   },
   "source": [
    "# What are neurons?"
   ]
  },
  {
   "cell_type": "markdown",
   "metadata": {
    "slideshow": {
     "slide_type": "fragment"
    }
   },
   "source": [
    "## - More than you know, even if you are a neuroscience major!"
   ]
  },
  {
   "cell_type": "code",
   "execution_count": 1,
   "metadata": {
    "slideshow": {
     "slide_type": "skip"
    }
   },
   "outputs": [],
   "source": [
    "%matplotlib inline\n",
    "import matplotlib.pyplot as plt\n",
    "import numpy as np\n",
    "import scipy\n",
    "import pandas as pd\n",
    "import seaborn as sns\n",
    "sns.set(font_scale=1.5) # Nice big fonts\n",
    "import warnings\n",
    "warnings.filterwarnings(\"ignore\") # Turn off distracting warning messages that you don't need to see"
   ]
  },
  {
   "cell_type": "code",
   "execution_count": 2,
   "metadata": {
    "slideshow": {
     "slide_type": "skip"
    }
   },
   "outputs": [
    {
     "data": {
      "text/html": [
       "<style>\n",
       "table.dataframe {\n",
       "font-size:150%;\n",
       "}\n",
       "</style>"
      ],
      "text/plain": [
       "<IPython.core.display.HTML object>"
      ]
     },
     "execution_count": 2,
     "metadata": {},
     "output_type": "execute_result"
    }
   ],
   "source": [
    "# Make my dataframes big for slideshow mode\n",
    "from IPython.display import HTML\n",
    "HTML(\"\"\"<style>\n",
    "table.dataframe {\n",
    "font-size:150%;\n",
    "}\n",
    "</style>\"\"\")"
   ]
  },
  {
   "cell_type": "code",
   "execution_count": 3,
   "metadata": {
    "slideshow": {
     "slide_type": "fragment"
    }
   },
   "outputs": [
    {
     "data": {
      "image/jpeg": "[encoded data removed]",
      "text/html": [
       "\n",
       "        <iframe\n",
       "            width=\"400\"\n",
       "            height=\"300\"\n",
       "            src=\"https://www.youtube.com/embed/6qS83wD29PY\"\n",
       "            frameborder=\"0\"\n",
       "            allowfullscreen\n",
       "        ></iframe>\n",
       "        "
      ],
      "text/plain": [
       "<IPython.lib.display.YouTubeVideo at 0x7f1ad452a240>"
      ]
     },
     "execution_count": 3,
     "metadata": {},
     "output_type": "execute_result"
    }
   ],
   "source": [
    "from IPython.display import YouTubeVideo\n",
    "YouTubeVideo(\"6qS83wD29PY\")"
   ]
  },
  {
   "cell_type": "markdown",
   "metadata": {
    "slideshow": {
     "slide_type": "slide"
    }
   },
   "source": [
    "![resting potential](https://courses.washington.edu/conj/membpot/cellsionspsp.png) "
   ]
  },
  {
   "cell_type": "markdown",
   "metadata": {
    "slideshow": {
     "slide_type": "fragment"
    }
   },
   "source": [
    "![origin of membrane potential](https://images.tutorvista.com/cms/images/81/nernst-equation-membrane-potential.png)"
   ]
  },
  {
   "cell_type": "markdown",
   "metadata": {
    "slideshow": {
     "slide_type": "slide"
    }
   },
   "source": [
    "![myocyte concentrations](https://www.cvphysiology.com/Arrhythmias/A007%20membrane%20ions.gif) "
   ]
  },
  {
   "cell_type": "markdown",
   "metadata": {
    "slideshow": {
     "slide_type": "fragment"
    }
   },
   "source": [
    "#### [Link for engineering-type people to learn more](https://www.scientifica.uk.com/learning-zone/understanding-the-cell-as-an-electrical-circuit)\n",
    "#### [Link for gunner premeds to USMLE study materials](https://www.yousmle.com/equilibrium-nernst-potential-for-the-usmle)"
   ]
  },
  {
   "cell_type": "markdown",
   "metadata": {
    "slideshow": {
     "slide_type": "slide"
    }
   },
   "source": [
    "## What is an action potential?"
   ]
  },
  {
   "cell_type": "code",
   "execution_count": 4,
   "metadata": {
    "slideshow": {
     "slide_type": "fragment"
    }
   },
   "outputs": [
    {
     "data": {
      "image/jpeg": "[encoded data removed]",
      "text/html": [
       "\n",
       "        <iframe\n",
       "            width=\"400\"\n",
       "            height=\"300\"\n",
       "            src=\"https://www.youtube.com/embed/W2hHt_PXe5o\"\n",
       "            frameborder=\"0\"\n",
       "            allowfullscreen\n",
       "        ></iframe>\n",
       "        "
      ],
      "text/plain": [
       "<IPython.lib.display.YouTubeVideo at 0x7f1aa2b2eb00>"
      ]
     },
     "execution_count": 4,
     "metadata": {},
     "output_type": "execute_result"
    }
   ],
   "source": [
    "YouTubeVideo(\"W2hHt_PXe5o\")"
   ]
  },
  {
   "cell_type": "markdown",
   "metadata": {
    "slideshow": {
     "slide_type": "fragment"
    }
   },
   "source": [
    "### [Quick simulation demo of how these variables change over time](https://live.geppetto.org/geppetto?load_project_from_id=1)"
   ]
  },
  {
   "cell_type": "markdown",
   "metadata": {
    "slideshow": {
     "slide_type": "slide"
    }
   },
   "source": [
    "## [The Allen Institute and their data](http://portal.brain-map.org)"
   ]
  },
  {
   "cell_type": "code",
   "execution_count": 5,
   "metadata": {
    "slideshow": {
     "slide_type": "fragment"
    }
   },
   "outputs": [
    {
     "name": "stdout",
     "output_type": "stream",
     "text": [
      "Requirement already satisfied: allensdk in /opt/conda/lib/python3.7/site-packages (0.16.0)\n",
      "Requirement already satisfied: six>=1.9.0 in /opt/conda/lib/python3.7/site-packages (from allensdk) (1.12.0)\n",
      "Requirement already satisfied: matplotlib>=1.4.3 in /opt/conda/lib/python3.7/site-packages (from allensdk) (3.0.2)\n",
      "Requirement already satisfied: h5py>=2.3.1 in /home/rgerkin/.local/lib/python3.7/site-packages (from allensdk) (2.9.0)\n",
      "Requirement already satisfied: tables in /opt/conda/lib/python3.7/site-packages (from allensdk) (3.4.4)\n",
      "Requirement already satisfied: requests in /opt/conda/lib/python3.7/site-packages (from allensdk) (2.21.0)\n",
      "Requirement already satisfied: pynrrd>=0.2.1 in /opt/conda/lib/python3.7/site-packages (from allensdk) (0.3.5)\n",
      "Requirement already satisfied: future>=0.14.3 in /opt/conda/lib/python3.7/site-packages (from allensdk) (0.17.1)\n",
      "Requirement already satisfied: simplejson>=3.10.0 in /opt/conda/lib/python3.7/site-packages (from allensdk) (3.16.0)\n",
      "Requirement already satisfied: jinja2>=2.7.3 in /opt/conda/lib/python3.7/site-packages (from allensdk) (2.10)\n",
      "Requirement already satisfied: scipy>=0.15.1 in /opt/conda/lib/python3.7/site-packages (from allensdk) (1.1.0)\n",
      "Requirement already satisfied: statsmodels>=0.8.0 in /opt/conda/lib/python3.7/site-packages (from allensdk) (0.9.0)\n",
      "Requirement already satisfied: requests-toolbelt in /opt/conda/lib/python3.7/site-packages (from allensdk) (0.8.0)\n",
      "Requirement already satisfied: scikit-image>=0.14.0 in /opt/conda/lib/python3.7/site-packages (from allensdk) (0.14.2)\n",
      "Requirement already satisfied: pandas>=0.17.0 in /opt/conda/lib/python3.7/site-packages (from allensdk) (0.23.4)\n",
      "Requirement already satisfied: simpleitk in /opt/conda/lib/python3.7/site-packages (from allensdk) (1.2.0)\n",
      "Requirement already satisfied: numpy>=1.12.1 in /opt/conda/lib/python3.7/site-packages (from allensdk) (1.15.4)\n",
      "Requirement already satisfied: cycler>=0.10 in /opt/conda/lib/python3.7/site-packages (from matplotlib>=1.4.3->allensdk) (0.10.0)\n",
      "Requirement already satisfied: kiwisolver>=1.0.1 in /opt/conda/lib/python3.7/site-packages (from matplotlib>=1.4.3->allensdk) (1.0.1)\n",
      "Requirement already satisfied: pyparsing!=2.0.4,!=2.1.2,!=2.1.6,>=2.0.1 in /opt/conda/lib/python3.7/site-packages (from matplotlib>=1.4.3->allensdk) (2.3.0)\n",
      "Requirement already satisfied: python-dateutil>=2.1 in /opt/conda/lib/python3.7/site-packages (from matplotlib>=1.4.3->allensdk) (2.7.5)\n",
      "Requirement already satisfied: numexpr>=2.5.2 in /opt/conda/lib/python3.7/site-packages (from tables->allensdk) (2.6.9)\n",
      "Requirement already satisfied: certifi>=2017.4.17 in /opt/conda/lib/python3.7/site-packages (from requests->allensdk) (2018.11.29)\n",
      "Requirement already satisfied: urllib3<1.25,>=1.21.1 in /opt/conda/lib/python3.7/site-packages (from requests->allensdk) (1.24.1)\n",
      "Requirement already satisfied: idna<2.9,>=2.5 in /opt/conda/lib/python3.7/site-packages (from requests->allensdk) (2.8)\n",
      "Requirement already satisfied: chardet<3.1.0,>=3.0.2 in /opt/conda/lib/python3.7/site-packages (from requests->allensdk) (3.0.4)\n",
      "Requirement already satisfied: MarkupSafe>=0.23 in /opt/conda/lib/python3.7/site-packages (from jinja2>=2.7.3->allensdk) (1.1.0)\n",
      "Requirement already satisfied: cloudpickle>=0.2.1 in /opt/conda/lib/python3.7/site-packages (from scikit-image>=0.14.0->allensdk) (0.6.1)\n",
      "Requirement already satisfied: dask[array]>=1.0.0 in /opt/conda/lib/python3.7/site-packages (from scikit-image>=0.14.0->allensdk) (1.1.0)\n",
      "Requirement already satisfied: PyWavelets>=0.4.0 in /opt/conda/lib/python3.7/site-packages (from scikit-image>=0.14.0->allensdk) (1.0.1)\n",
      "Requirement already satisfied: networkx>=1.8 in /opt/conda/lib/python3.7/site-packages (from scikit-image>=0.14.0->allensdk) (2.2)\n",
      "Requirement already satisfied: pillow>=4.3.0 in /opt/conda/lib/python3.7/site-packages (from scikit-image>=0.14.0->allensdk) (5.4.1)\n",
      "Requirement already satisfied: pytz>=2011k in /opt/conda/lib/python3.7/site-packages (from pandas>=0.17.0->allensdk) (2018.7)\n",
      "Requirement already satisfied: setuptools in /opt/conda/lib/python3.7/site-packages (from kiwisolver>=1.0.1->matplotlib>=1.4.3->allensdk) (40.6.3)\n",
      "Requirement already satisfied: toolz>=0.7.3; extra == \"array\" in /opt/conda/lib/python3.7/site-packages (from dask[array]>=1.0.0->scikit-image>=0.14.0->allensdk) (0.9.0)\n",
      "Requirement already satisfied: decorator>=4.3.0 in /opt/conda/lib/python3.7/site-packages (from networkx>=1.8->scikit-image>=0.14.0->allensdk) (4.3.0)\n"
     ]
    }
   ],
   "source": [
    "# Install the Allen Institute API.  An API is programming module for interacting with a particular kind of program or dataset\n",
    "!pip install allensdk"
   ]
  },
  {
   "cell_type": "code",
   "execution_count": 6,
   "metadata": {
    "slideshow": {
     "slide_type": "fragment"
    }
   },
   "outputs": [],
   "source": [
    "# Load a file downloader to get data from The Allen Institute\n",
    "from allensdk.core.cell_types_cache import CellTypesCache \n",
    "\n",
    "# Create an instance of that file downloader\n",
    "ctc = CellTypesCache(manifest_file='cell_types/manifest.json') \n",
    "\n",
    "# An example of a dataset id (the last part of the URL in e.g. http://celltypes.brain-map.org/experiment/electrophysiology/643625553)\n",
    "dataset_id = 643625553 \n",
    "\n",
    "# Get information and data for that dataset\n",
    "parameters = ctc.get_ephys_sweeps(dataset_id)\n",
    "recordings = ctc.get_ephys_data(dataset_id)"
   ]
  },
  {
   "cell_type": "markdown",
   "metadata": {
    "slideshow": {
     "slide_type": "slide"
    }
   },
   "source": [
    "### Pick one of the many \"sweeps\" (short parts of experiments) performed on this cell"
   ]
  },
  {
   "cell_type": "code",
   "execution_count": 7,
   "metadata": {
    "slideshow": {
     "slide_type": "fragment"
    }
   },
   "outputs": [
    {
     "data": {
      "text/plain": [
       "{'stimulus': array([0., 0., 0., ..., 0., 0., 0.], dtype=float32),\n",
       " 'response': array([-0.07300001, -0.07300001, -0.07300001, ..., -0.07371876,\n",
       "        -0.07371876, -0.0736875 ], dtype=float32),\n",
       " 'stimulus_unit': 'Amps',\n",
       " 'index_range': (37500, 400999),\n",
       " 'sampling_rate': 50000.0}"
      ]
     },
     "execution_count": 7,
     "metadata": {},
     "output_type": "execute_result"
    }
   ],
   "source": [
    "my_sweep_number = 37\n",
    "my_sweep = recordings.get_sweep(my_sweep_number) # I randomly picked sweep 37\n",
    "my_sweep"
   ]
  },
  {
   "cell_type": "markdown",
   "metadata": {
    "slideshow": {
     "slide_type": "slide"
    }
   },
   "source": [
    "### Lets get our units right"
   ]
  },
  {
   "cell_type": "code",
   "execution_count": 8,
   "metadata": {
    "slideshow": {
     "slide_type": "fragment"
    }
   },
   "outputs": [
    {
     "data": {
      "text/plain": [
       "True"
      ]
     },
     "execution_count": 8,
     "metadata": {},
     "output_type": "execute_result"
    }
   ],
   "source": [
    "# Note on units\n",
    "from quantities import s, ms, V, mV, A, pA\n",
    "1000*ms == 1*s"
   ]
  },
  {
   "cell_type": "code",
   "execution_count": 9,
   "metadata": {
    "slideshow": {
     "slide_type": "fragment"
    }
   },
   "outputs": [],
   "source": [
    "# What is the time interval between samples (measurements) in each of these sweeps?\n",
    "dt = s/my_sweep['sampling_rate']\n",
    "\n",
    "# How many samples in each of these sweeps?  \n",
    "n_samples = len(my_sweep['stimulus'])\n",
    "\n",
    "# Determine the time (relative to the start of the sweep) for each of these samples.  \n",
    "times = range(n_samples) * dt"
   ]
  },
  {
   "cell_type": "markdown",
   "metadata": {
    "slideshow": {
     "slide_type": "slide"
    }
   },
   "source": [
    "### Put it in a dataframe for further use"
   ]
  },
  {
   "cell_type": "code",
   "execution_count": 10,
   "metadata": {
    "slideshow": {
     "slide_type": "fragment"
    }
   },
   "outputs": [
    {
     "data": {
      "text/html": [
       "<div>\n",
       "<style scoped>\n",
       "    .dataframe tbody tr th:only-of-type {\n",
       "        vertical-align: middle;\n",
       "    }\n",
       "\n",
       "    .dataframe tbody tr th {\n",
       "        vertical-align: top;\n",
       "    }\n",
       "\n",
       "    .dataframe thead th {\n",
       "        text-align: right;\n",
       "    }\n",
       "</style>\n",
       "<table border=\"1\" class=\"dataframe\">\n",
       "  <thead>\n",
       "    <tr style=\"text-align: right;\">\n",
       "      <th></th>\n",
       "      <th>stimulus</th>\n",
       "      <th>response</th>\n",
       "    </tr>\n",
       "  </thead>\n",
       "  <tbody>\n",
       "    <tr>\n",
       "      <th>0.00000</th>\n",
       "      <td>NaN</td>\n",
       "      <td>NaN</td>\n",
       "    </tr>\n",
       "    <tr>\n",
       "      <th>0.00002</th>\n",
       "      <td>NaN</td>\n",
       "      <td>NaN</td>\n",
       "    </tr>\n",
       "    <tr>\n",
       "      <th>0.00004</th>\n",
       "      <td>NaN</td>\n",
       "      <td>NaN</td>\n",
       "    </tr>\n",
       "    <tr>\n",
       "      <th>0.00006</th>\n",
       "      <td>NaN</td>\n",
       "      <td>NaN</td>\n",
       "    </tr>\n",
       "    <tr>\n",
       "      <th>0.00008</th>\n",
       "      <td>NaN</td>\n",
       "      <td>NaN</td>\n",
       "    </tr>\n",
       "  </tbody>\n",
       "</table>\n",
       "</div>"
      ],
      "text/plain": [
       "        stimulus response\n",
       "0.00000      NaN      NaN\n",
       "0.00002      NaN      NaN\n",
       "0.00004      NaN      NaN\n",
       "0.00006      NaN      NaN\n",
       "0.00008      NaN      NaN"
      ]
     },
     "execution_count": 10,
     "metadata": {},
     "output_type": "execute_result"
    }
   ],
   "source": [
    "# Create an empty dataframe to hold the data\n",
    "df = pd.DataFrame(index=times, columns=['stimulus', 'response'])\n",
    "df.head()"
   ]
  },
  {
   "cell_type": "code",
   "execution_count": 11,
   "metadata": {
    "slideshow": {
     "slide_type": "fragment"
    }
   },
   "outputs": [
    {
     "data": {
      "text/html": [
       "<div>\n",
       "<style scoped>\n",
       "    .dataframe tbody tr th:only-of-type {\n",
       "        vertical-align: middle;\n",
       "    }\n",
       "\n",
       "    .dataframe tbody tr th {\n",
       "        vertical-align: top;\n",
       "    }\n",
       "\n",
       "    .dataframe thead th {\n",
       "        text-align: right;\n",
       "    }\n",
       "</style>\n",
       "<table border=\"1\" class=\"dataframe\">\n",
       "  <thead>\n",
       "    <tr style=\"text-align: right;\">\n",
       "      <th></th>\n",
       "      <th>stimulus</th>\n",
       "      <th>response</th>\n",
       "    </tr>\n",
       "  </thead>\n",
       "  <tbody>\n",
       "    <tr>\n",
       "      <th>0.00000</th>\n",
       "      <td>0.0</td>\n",
       "      <td>-73.0</td>\n",
       "    </tr>\n",
       "    <tr>\n",
       "      <th>0.00002</th>\n",
       "      <td>0.0</td>\n",
       "      <td>-73.0</td>\n",
       "    </tr>\n",
       "    <tr>\n",
       "      <th>0.00004</th>\n",
       "      <td>0.0</td>\n",
       "      <td>-73.0</td>\n",
       "    </tr>\n",
       "    <tr>\n",
       "      <th>0.00006</th>\n",
       "      <td>0.0</td>\n",
       "      <td>-73.0</td>\n",
       "    </tr>\n",
       "    <tr>\n",
       "      <th>0.00008</th>\n",
       "      <td>0.0</td>\n",
       "      <td>-73.0</td>\n",
       "    </tr>\n",
       "  </tbody>\n",
       "</table>\n",
       "</div>"
      ],
      "text/plain": [
       "         stimulus  response\n",
       "0.00000       0.0     -73.0\n",
       "0.00002       0.0     -73.0\n",
       "0.00004       0.0     -73.0\n",
       "0.00006       0.0     -73.0\n",
       "0.00008       0.0     -73.0"
      ]
     },
     "execution_count": 11,
     "metadata": {},
     "output_type": "execute_result"
    }
   ],
   "source": [
    "# Fill the dataframe with the data from our chosen sweep.  Get the units right\n",
    "df['stimulus'] = (my_sweep['stimulus'] * A).rescale('pA')\n",
    "df['response'] = (my_sweep['response'] * V).rescale('mV').round(4)\n",
    "df.head()"
   ]
  },
  {
   "cell_type": "markdown",
   "metadata": {
    "slideshow": {
     "slide_type": "slide"
    }
   },
   "source": [
    "### Let's look at the data"
   ]
  },
  {
   "cell_type": "code",
   "execution_count": 12,
   "metadata": {
    "slideshow": {
     "slide_type": "fragment"
    }
   },
   "outputs": [
    {
     "data": {
      "image/png": "[encoded data removed]",
      "text/plain": [
       "<Figure size 432x288 with 1 Axes>"
      ]
     },
     "metadata": {
      "needs_background": "light"
     },
     "output_type": "display_data"
    },
    {
     "data": {
      "image/png": "[encoded data removed]",
      "text/plain": [
       "<Figure size 432x288 with 1 Axes>"
      ]
     },
     "metadata": {
      "needs_background": "light"
     },
     "output_type": "display_data"
    }
   ],
   "source": [
    "# Plot the time course of the stimulus (the current injected into the cell)\n",
    "df.plot(y='stimulus')\n",
    "plt.xlabel('Time (s)')\n",
    "plt.ylabel('Input Current (pA)');\n",
    "\n",
    "# Plot the time course of the response \n",
    "# (the change in the membrane potential, including action potentials, that results)\n",
    "df.plot(y='response')\n",
    "plt.xlabel('Time (s)')\n",
    "plt.ylabel('Membrane Potential (mV)');"
   ]
  },
  {
   "cell_type": "markdown",
   "metadata": {
    "slideshow": {
     "slide_type": "slide"
    }
   },
   "source": [
    "### Make the figure wider and zoom in to the interesting part"
   ]
  },
  {
   "cell_type": "code",
   "execution_count": 13,
   "metadata": {
    "slideshow": {
     "slide_type": "fragment"
    }
   },
   "outputs": [
    {
     "data": {
      "image/png": "[encoded data removed]",
      "text/plain": [
       "<Figure size 1080x216 with 1 Axes>"
      ]
     },
     "metadata": {
      "needs_background": "light"
     },
     "output_type": "display_data"
    }
   ],
   "source": [
    "df.plot(y='response', figsize=(15,3))\n",
    "plt.xlabel('Time (s)')\n",
    "plt.ylabel('Membrane Potential (mV)');\n",
    "plt.xlim(0.5,2.5);"
   ]
  },
  {
   "cell_type": "markdown",
   "metadata": {
    "slideshow": {
     "slide_type": "slide"
    }
   },
   "source": [
    "### The action potentials are usually the interesting part.  When do they occur?"
   ]
  },
  {
   "cell_type": "code",
   "execution_count": 14,
   "metadata": {
    "slideshow": {
     "slide_type": "fragment"
    }
   },
   "outputs": [
    {
     "name": "stdout",
     "output_type": "stream",
     "text": [
      "There are 49 spikes in this sweep\n"
     ]
    },
    {
     "data": {
      "text/plain": [
       "array([1.03026, 1.03426, 1.03956, 1.04736, 1.06424, 1.08444, 1.10614,\n",
       "       1.12488, 1.144  , 1.16518, 1.1837 , 1.20368, 1.22192, 1.24414,\n",
       "       1.26428, 1.28304, 1.30318, 1.32404, 1.34618, 1.366  , 1.3886 ,\n",
       "       1.40694, 1.428  , 1.4482 , 1.46882, 1.49074, 1.51298, 1.5337 ,\n",
       "       1.55516, 1.57616, 1.59872, 1.61998, 1.6413 , 1.6605 , 1.68358,\n",
       "       1.7084 , 1.72884, 1.74988, 1.77064, 1.79374, 1.81562, 1.8394 ,\n",
       "       1.86094, 1.88338, 1.90632, 1.92776, 1.95044, 1.9735 , 1.9985 ]) * s"
      ]
     },
     "execution_count": 14,
     "metadata": {},
     "output_type": "execute_result"
    }
   ],
   "source": [
    "from scipy.signal import find_peaks\n",
    "# Find the peak locations and heights, for peaks that go above 0\n",
    "spike_times, spike_amplitudes = find_peaks(df['response'], height=0)\n",
    "\n",
    "# Information about the extracted spike times\n",
    "print(\"There are %d spikes in this sweep\" % len(spike_times))\n",
    "spike_times * dt"
   ]
  },
  {
   "cell_type": "markdown",
   "metadata": {
    "slideshow": {
     "slide_type": "slide"
    }
   },
   "source": [
    "### What is the purpose of this sweep?  Are there others like it?"
   ]
  },
  {
   "cell_type": "code",
   "execution_count": 15,
   "metadata": {
    "slideshow": {
     "slide_type": "fragment"
    }
   },
   "outputs": [
    {
     "data": {
      "text/plain": [
       "{'bridge_balance_mohm': 10.7448110580444,\n",
       " 'id': 643632225,\n",
       " 'leak_pa': -6.432936668396,\n",
       " 'num_spikes': 30,\n",
       " 'peak_deflection': None,\n",
       " 'post_noise_rms_mv': 0.0318580716848373,\n",
       " 'post_vm_mv': -73.4478149414062,\n",
       " 'pre_noise_rms_mv': 0.0392096601426601,\n",
       " 'pre_vm_mv': -73.2483520507812,\n",
       " 'slow_noise_rms_mv': 0.220357805490494,\n",
       " 'slow_vm_mv': -73.2483520507812,\n",
       " 'specimen_id': 643625553,\n",
       " 'stimulus_absolute_amplitude': 129.99999687846,\n",
       " 'stimulus_description': 'C1LSFINEST150112[0]',\n",
       " 'stimulus_duration': 0.99998,\n",
       " 'stimulus_interval': None,\n",
       " 'stimulus_name': 'Long Square',\n",
       " 'stimulus_relative_amplitude': 10.0,\n",
       " 'stimulus_start_time': 1.02,\n",
       " 'stimulus_units': 'pA',\n",
       " 'sweep_number': 45,\n",
       " 'vm_delta_mv': 0.199462890625}"
      ]
     },
     "execution_count": 15,
     "metadata": {},
     "output_type": "execute_result"
    }
   ],
   "source": [
    "parameters[my_sweep_number]"
   ]
  },
  {
   "cell_type": "code",
   "execution_count": 16,
   "metadata": {
    "slideshow": {
     "slide_type": "fragment"
    }
   },
   "outputs": [],
   "source": [
    "my_sweep_type = parameters[my_sweep_number]['stimulus_name']"
   ]
  },
  {
   "cell_type": "markdown",
   "metadata": {
    "slideshow": {
     "slide_type": "slide"
    }
   },
   "source": [
    "### Find the others like it"
   ]
  },
  {
   "cell_type": "code",
   "execution_count": 17,
   "metadata": {
    "slideshow": {
     "slide_type": "fragment"
    }
   },
   "outputs": [
    {
     "data": {
      "text/plain": [
       "[18,\n",
       " 19,\n",
       " 20,\n",
       " 21,\n",
       " 22,\n",
       " 23,\n",
       " 24,\n",
       " 25,\n",
       " 26,\n",
       " 27,\n",
       " 28,\n",
       " 29,\n",
       " 30,\n",
       " 31,\n",
       " 32,\n",
       " 33,\n",
       " 34,\n",
       " 35,\n",
       " 36,\n",
       " 37,\n",
       " 38]"
      ]
     },
     "execution_count": 17,
     "metadata": {},
     "output_type": "execute_result"
    }
   ],
   "source": [
    "n_sweeps = len(parameters)\n",
    "my_sweep_type_indices = []\n",
    "for i in range(n_sweeps):\n",
    "    if parameters[i]['stimulus_name'] == my_sweep_type:\n",
    "        my_sweep_type_indices.append(i)\n",
    "    \n",
    "my_sweep_type_indices"
   ]
  },
  {
   "cell_type": "markdown",
   "metadata": {
    "slideshow": {
     "slide_type": "slide"
    }
   },
   "source": [
    "### Put all the spikes from all of those sweeps in a big list"
   ]
  },
  {
   "cell_type": "code",
   "execution_count": 18,
   "metadata": {
    "slideshow": {
     "slide_type": "fragment"
    }
   },
   "outputs": [
    {
     "data": {
      "text/plain": [
       "[array(1.03026) * s,\n",
       " array(1.03426) * s,\n",
       " array(1.03956) * s,\n",
       " array(1.04736) * s,\n",
       " array(1.06424) * s,\n",
       " array(1.08444) * s,\n",
       " array(1.10614) * s,\n",
       " array(1.12488) * s,\n",
       " array(1.144) * s,\n",
       " array(1.16518) * s,\n",
       " array(1.1837) * s,\n",
       " array(1.20368) * s,\n",
       " array(1.22192) * s,\n",
       " array(1.24414) * s,\n",
       " array(1.26428) * s,\n",
       " array(1.28304) * s,\n",
       " array(1.30318) * s,\n",
       " array(1.32404) * s,\n",
       " array(1.34618) * s,\n",
       " array(1.366) * s,\n",
       " array(1.3886) * s,\n",
       " array(1.40694) * s,\n",
       " array(1.428) * s,\n",
       " array(1.4482) * s,\n",
       " array(1.46882) * s]"
      ]
     },
     "execution_count": 18,
     "metadata": {},
     "output_type": "execute_result"
    }
   ],
   "source": [
    "all_spike_times = []\n",
    "for i in my_sweep_type_indices: # Iterate over all the sweep numbers that have \n",
    "                                    # the kind of sweep we want\n",
    "    try: # Try to find that sweep in the list of recordings\n",
    "        my_sweep = recordings.get_sweep(i) # Get sweep number \"i\"\n",
    "    except: # Sometimes it isn't there, and we won't ask questions\n",
    "        pass\n",
    "    response = (my_sweep['response'] * V).rescale('mV') # Extract the response from this sweep\n",
    "    spike_times, spike_amplitudes = find_peaks(response, height=0) # Find the spike times\n",
    "    all_spike_times += list(spike_times * dt) # Add these spike times (with proper units)\n",
    "all_spike_times[:25] # First 25 spikes found across the whole dataset"
   ]
  },
  {
   "cell_type": "markdown",
   "metadata": {
    "slideshow": {
     "slide_type": "slide"
    }
   },
   "source": [
    "### Make a peri-stimulus spike time histogram (STH) to characterize the response of the cell to that kind of stimulus"
   ]
  },
  {
   "cell_type": "code",
   "execution_count": 19,
   "metadata": {
    "slideshow": {
     "slide_type": "fragment"
    }
   },
   "outputs": [
    {
     "data": {
      "image/png": "[encoded data removed]",
      "text/plain": [
       "<Figure size 864x576 with 1 Axes>"
      ]
     },
     "metadata": {
      "needs_background": "light"
     },
     "output_type": "display_data"
    }
   ],
   "source": [
    "plt.figure(figsize=(12,8))\n",
    "plt.hist(all_spike_times, bins=25);\n",
    "plt.xlabel('Time (s)')\n",
    "plt.ylabel('# of spikes observed')\n",
    "plt.xlim(0.5,2.5);"
   ]
  },
  {
   "cell_type": "markdown",
   "metadata": {
    "slideshow": {
     "slide_type": "slide"
    }
   },
   "source": [
    "### This behavior is one of many types"
   ]
  },
  {
   "cell_type": "markdown",
   "metadata": {
    "slideshow": {
     "slide_type": "fragment"
    }
   },
   "source": [
    "![izhikevich zoo](https://www.izhikevich.org/publications/figure1.gif)"
   ]
  },
  {
   "cell_type": "markdown",
   "metadata": {
    "slideshow": {
     "slide_type": "slide"
    }
   },
   "source": [
    "### Simulation of the same phenomenon (for math people, or people who prefer fake things to real things)\n",
    "#### Optional, skip if this is not you"
   ]
  },
  {
   "cell_type": "code",
   "execution_count": 20,
   "metadata": {
    "slideshow": {
     "slide_type": "fragment"
    }
   },
   "outputs": [
    {
     "name": "stdout",
     "output_type": "stream",
     "text": [
      "Requirement already satisfied: brian2 in /home/rgerkin/.local/lib/python3.7/site-packages (2.2.1)\n",
      "Requirement already satisfied: numpy>=1.10 in /opt/conda/lib/python3.7/site-packages (from brian2) (1.15.4)\n",
      "Requirement already satisfied: setuptools>=21 in /opt/conda/lib/python3.7/site-packages (from brian2) (40.6.3)\n",
      "Requirement already satisfied: cython>=0.29 in /home/rgerkin/.local/lib/python3.7/site-packages (from brian2) (0.29.3)\n",
      "Requirement already satisfied: pyparsing in /opt/conda/lib/python3.7/site-packages (from brian2) (2.3.0)\n",
      "Requirement already satisfied: sympy!=1.1.0,>=0.7.6 in /opt/conda/lib/python3.7/site-packages (from brian2) (1.3)\n",
      "Requirement already satisfied: jinja2>=2.7 in /opt/conda/lib/python3.7/site-packages (from brian2) (2.10)\n",
      "Requirement already satisfied: mpmath>=0.19 in /opt/conda/lib/python3.7/site-packages (from sympy!=1.1.0,>=0.7.6->brian2) (1.1.0)\n",
      "Requirement already satisfied: MarkupSafe>=0.23 in /opt/conda/lib/python3.7/site-packages (from jinja2>=2.7->brian2) (1.1.0)\n"
     ]
    }
   ],
   "source": [
    "# Install the Brian2 simulator (because Brian1 just won't cut it)\n",
    "!pip install brian2"
   ]
  },
  {
   "cell_type": "code",
   "execution_count": 21,
   "metadata": {
    "slideshow": {
     "slide_type": "slide"
    }
   },
   "outputs": [],
   "source": [
    "# Importing functions and units from the Brian2 library\n",
    "from brian2 import Equations, start_scope, run, NeuronGroup, Synapses, StateMonitor, SpikeMonitor\n",
    "from brian2 import ms, second # units of time\n",
    "from brian2 import ufarad # units of capacitance\n",
    "from brian2 import siemens, msiemens, nS # units of conductance\n",
    "from brian2 import mV # units of voltage \n",
    "from brian2 import umetre, cm # units of length"
   ]
  },
  {
   "cell_type": "code",
   "execution_count": 22,
   "metadata": {
    "slideshow": {
     "slide_type": "slide"
    }
   },
   "outputs": [
    {
     "name": "stderr",
     "output_type": "stream",
     "text": [
      "unable to execute 'gcc': No such file or directory\n",
      "WARNING    Cannot use Cython, a test compilation failed: command 'gcc' failed with exit status 1 (CompileError) [brian2.codegen.runtime.cython_rt.cython_rt.failed_compile_test]\n",
      "INFO       Cannot use compiled code, falling back to the numpy code generation target. Note that this will likely be slower than using compiled code. Set the code generation to numpy manually to avoid this message:\n",
      "prefs.codegen.target = \"numpy\" [brian2.devices.device.codegen_fallback]\n"
     ]
    },
    {
     "name": "stdout",
     "output_type": "stream",
     "text": [
      "Starting simulation at t=0. s for a duration of 1. s\n",
      "1.0 (100%) simulated in 4s\n"
     ]
    }
   ],
   "source": [
    "start_scope() # Start a new simulation\n",
    "\n",
    "# Parameters to describe the size and electrical properties of the cell\n",
    "area = 20000*umetre**2\n",
    "Cm = (1*ufarad*cm**-2) * area\n",
    "gl = (5e-5*siemens*cm**-2) * area\n",
    "El = -60*mV\n",
    "EK = -90*mV\n",
    "ENa = 50*mV\n",
    "g_na = (100*msiemens*cm**-2) * area\n",
    "g_kd = (30*msiemens*cm**-2) * area\n",
    "VT = -63*mV\n",
    "\n",
    "# Time constants to describe how synaptic currents decay\n",
    "taue = 5*ms\n",
    "taui = 10*ms\n",
    "\n",
    "# Reversal potentials (the electromotive driving force for each type of ion, basically)\n",
    "Ee = 0*mV\n",
    "Ei = -80*mV\n",
    "we = 6*nS  # excitatory synaptic weight\n",
    "wi = 67*nS  # inhibitory synaptic weight\n",
    "\n",
    "# The model (as a set of ODEs)\n",
    "eqs = Equations('''\n",
    "dv/dt = (gl*(El-v)+ge*(Ee-v)+gi*(Ei-v)-\n",
    "         g_na*(m*m*m)*h*(v-ENa)-\n",
    "         g_kd*(n*n*n*n)*(v-EK))/Cm : volt\n",
    "dm/dt = alpha_m*(1-m)-beta_m*m : 1\n",
    "dn/dt = alpha_n*(1-n)-beta_n*n : 1\n",
    "dh/dt = alpha_h*(1-h)-beta_h*h : 1\n",
    "dge/dt = -ge*(1./taue) : siemens\n",
    "dgi/dt = -gi*(1./taui) : siemens\n",
    "alpha_m = 0.32*(mV**-1)*(13*mV-v+VT)/\n",
    "         (exp((13*mV-v+VT)/(4*mV))-1.)/ms : Hz\n",
    "beta_m = 0.28*(mV**-1)*(v-VT-40*mV)/\n",
    "        (exp((v-VT-40*mV)/(5*mV))-1)/ms : Hz\n",
    "alpha_h = 0.128*exp((17*mV-v+VT)/(18*mV))/ms : Hz\n",
    "beta_h = 4./(1+exp((40*mV-v+VT)/(5*mV)))/ms : Hz\n",
    "alpha_n = 0.032*(mV**-1)*(15*mV-v+VT)/\n",
    "         (exp((15*mV-v+VT)/(5*mV))-1.)/ms : Hz\n",
    "beta_n = .5*exp((10*mV-v+VT)/(40*mV))/ms : Hz\n",
    "''')\n",
    "\n",
    "# The network, describing how each of these (otherwise identical) neurons is connected to each other\n",
    "n_neurons = 40\n",
    "P = NeuronGroup(n_neurons, model=eqs, threshold='v>-20*mV', refractory=3*ms,\n",
    "                method='exponential_euler')\n",
    "n_excitatory = int(n_neurons * 0.8)\n",
    "Pe = P[:n_excitatory]\n",
    "Pi = P[n_excitatory:]\n",
    "Ce = Synapses(Pe, P, on_pre='ge+=we')\n",
    "Ci = Synapses(Pi, P, on_pre='gi+=wi')\n",
    "Ce.connect(p=0.02)\n",
    "Ci.connect(p=0.02)\n",
    "\n",
    "# Initial conditions for some of the state variables, including random numbers\n",
    "P.v = 'El + (randn() * 5 - 5)*mV'\n",
    "P.ge = '(randn() * 1.5 + 4) * 10.*nS'\n",
    "P.gi = '(randn() * 12 + 20) * 10.*nS'\n",
    "\n",
    "# Run this simulation and record both the membrane potential and the action potential (spike) times of the neurons \n",
    "traces = StateMonitor(P, 'v', record=range(n_neurons))\n",
    "spikes = SpikeMonitor(P)\n",
    "run(1 * second, report='text')"
   ]
  },
  {
   "cell_type": "code",
   "execution_count": 23,
   "metadata": {
    "slideshow": {
     "slide_type": "slide"
    }
   },
   "outputs": [
    {
     "data": {
      "text/plain": [
       "<matplotlib.legend.Legend at 0x7f1a4d2127f0>"
      ]
     },
     "execution_count": 23,
     "metadata": {},
     "output_type": "execute_result"
    },
    {
     "data": {
      "image/png": "[encoded data removed]",
      "text/plain": [
       "<Figure size 720x360 with 1 Axes>"
      ]
     },
     "metadata": {
      "needs_background": "light"
     },
     "output_type": "display_data"
    }
   ],
   "source": [
    "# Plot the output for two randomly chosen neurons\n",
    "# The results are random in each simulation (see above), so if you don't like the ones here, \n",
    "# pick different neuron indices (instead of 11 and 31), or run the simulation again.  \n",
    "plt.figure(figsize=(10,5))\n",
    "cell_indices = [11, 31]\n",
    "for i in cell_indices:\n",
    "    plt.plot(traces.t/ms, traces[i].v/mV, label=\"Cell %d\" % i)\n",
    "plt.xlabel('time (ms)')\n",
    "plt.ylabel('Membrane Potential (mV)');\n",
    "plt.legend()"
   ]
  },
  {
   "cell_type": "code",
   "execution_count": 24,
   "metadata": {
    "slideshow": {
     "slide_type": "fragment"
    }
   },
   "outputs": [
    {
     "data": {
      "text/plain": [
       "array([  1.3,   6.6,  22.6,  94.9, 126.4, 166.9, 207.6, 245.5, 281.8,\n",
       "       326.3, 376.6, 416.3, 456.9, 494.5, 541.6, 574.6, 621.9, 669.5,\n",
       "       709.4, 746. , 785. , 840. , 869.4, 920.5, 962.6])"
      ]
     },
     "execution_count": 24,
     "metadata": {},
     "output_type": "execute_result"
    }
   ],
   "source": [
    "# The spike times (if any) for the first of those cells.  \n",
    "spikes.spike_trains()[cell_indices[0]]/ms"
   ]
  }
 ],
 "metadata": {
  "celltoolbar": "Slideshow",
  "kernelspec": {
   "display_name": "Python 3",
   "language": "python",
   "name": "python3"
  },
  "language_info": {
   "codemirror_mode": {
    "name": "ipython",
    "version": 3
   },
   "file_extension": ".py",
   "mimetype": "text/x-python",
   "name": "python",
   "nbconvert_exporter": "python",
   "pygments_lexer": "ipython3",
   "version": "3.7.1"
  }
 },
 "nbformat": 4,
 "nbformat_minor": 2
}
